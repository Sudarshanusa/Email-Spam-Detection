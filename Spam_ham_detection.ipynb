{
  "nbformat": 4,
  "nbformat_minor": 0,
  "metadata": {
    "colab": {
      "provenance": []
    },
    "kernelspec": {
      "name": "python3",
      "display_name": "Python 3"
    },
    "language_info": {
      "name": "python"
    }
  },
  "cells": [
    {
      "cell_type": "code",
      "execution_count": 2,
      "metadata": {
        "colab": {
          "base_uri": "https://localhost:8080/"
        },
        "id": "7HduoRSrCiTV",
        "outputId": "e3a2ef8d-48ec-446d-8f6d-ee6d0696659a"
      },
      "outputs": [
        {
          "output_type": "stream",
          "name": "stderr",
          "text": [
            "[nltk_data] Downloading package stopwords to /root/nltk_data...\n",
            "[nltk_data]   Package stopwords is already up-to-date!\n"
          ]
        },
        {
          "output_type": "stream",
          "name": "stdout",
          "text": [
            "<class 'pandas.core.frame.DataFrame'>\n",
            "RangeIndex: 5171 entries, 0 to 5170\n",
            "Data columns (total 4 columns):\n",
            " #   Column      Non-Null Count  Dtype \n",
            "---  ------      --------------  ----- \n",
            " 0   Unnamed: 0  5171 non-null   int64 \n",
            " 1   label       5171 non-null   object\n",
            " 2   text        5171 non-null   object\n",
            " 3   label_num   5171 non-null   int64 \n",
            "dtypes: int64(2), object(2)\n",
            "memory usage: 161.7+ KB\n",
            "None\n",
            "        Unnamed: 0    label_num\n",
            "count  5171.000000  5171.000000\n",
            "mean   2585.000000     0.289886\n",
            "std    1492.883452     0.453753\n",
            "min       0.000000     0.000000\n",
            "25%    1292.500000     0.000000\n",
            "50%    2585.000000     0.000000\n",
            "75%    3877.500000     1.000000\n",
            "max    5170.000000     1.000000\n",
            "Data preprocessing completed.\n"
          ]
        }
      ],
      "source": [
        "import pandas as pd\n",
        "import numpy as np\n",
        "import matplotlib.pyplot as plt\n",
        "import seaborn as sns\n",
        "from sklearn.model_selection import train_test_split\n",
        "from sklearn.feature_extraction.text import CountVectorizer\n",
        "from sklearn.naive_bayes import MultinomialNB\n",
        "from sklearn.metrics import classification_report, confusion_matrix\n",
        "import nltk\n",
        "from nltk.corpus import stopwords\n",
        "from nltk.stem import PorterStemmer\n",
        "import re\n",
        "\n",
        "# Download necessary NLTK data\n",
        "nltk.download('stopwords')\n",
        "\n",
        "def load_data(file_path):\n",
        "    # Load the dataset\n",
        "    df = pd.read_csv(file_path)\n",
        "    return df\n",
        "\n",
        "def perform_eda(df):\n",
        "    # Display basic information about the dataset\n",
        "    print(df.info())\n",
        "    print(df.describe())\n",
        "\n",
        "    # Check class distribution\n",
        "    plt.figure(figsize=(8, 6))\n",
        "    sns.countplot(x='label', data=df)\n",
        "    plt.title('Distribution of Spam and Ham messages')\n",
        "    plt.savefig('class_distribution.png')\n",
        "    plt.close()\n",
        "\n",
        "    # Message length distribution\n",
        "    df['message_length'] = df['text'].apply(len)\n",
        "    plt.figure(figsize=(10, 6))\n",
        "    sns.histplot(data=df, x='message_length', hue='label', kde=True)\n",
        "    plt.title('Distribution of Message Lengths')\n",
        "    plt.savefig('message_length_distribution.png')\n",
        "    plt.close()\n",
        "\n",
        "    # Word count distribution\n",
        "    df['word_count'] = df['text'].apply(lambda x: len(x.split()))\n",
        "    plt.figure(figsize=(10, 6))\n",
        "    sns.boxplot(x='label', y='word_count', data=df)\n",
        "    plt.title('Word Count Distribution by Label')\n",
        "    plt.savefig('word_count_distribution.png')\n",
        "    plt.close()\n",
        "\n",
        "def preprocess_text(text):\n",
        "    # Convert to lowercase\n",
        "    text = text.lower()\n",
        "\n",
        "    # Remove special characters and digits\n",
        "    text = re.sub(r'[^a-zA-Z\\s]', '', text)\n",
        "\n",
        "    # Tokenization\n",
        "    tokens = text.split()\n",
        "\n",
        "    # Remove stopwords\n",
        "    stop_words = set(stopwords.words('english'))\n",
        "    tokens = [token for token in tokens if token not in stop_words]\n",
        "\n",
        "    # Stemming\n",
        "    stemmer = PorterStemmer()\n",
        "    tokens = [stemmer.stem(token) for token in tokens]\n",
        "\n",
        "    return ' '.join(tokens)\n",
        "\n",
        "def prepare_data(df):\n",
        "    # Preprocess the text data\n",
        "    df['processed_message'] = df['text'].apply(preprocess_text)\n",
        "\n",
        "    # Split the data into training and testing sets\n",
        "    X_train, X_test, y_train, y_test = train_test_split(df['processed_message'], df['label'], test_size=0.2, random_state=42)\n",
        "\n",
        "    return X_train, X_test, y_train, y_test\n",
        "\n",
        "if __name__ == \"__main__\":\n",
        "    # Assuming you have a CSV file named 'spam_ham_dataset.csv' with columns 'message' and 'label'\n",
        "    df = load_data('email_data.csv')\n",
        "    perform_eda(df)\n",
        "    X_train, X_test, y_train, y_test = prepare_data(df)\n",
        "    print(\"Data preprocessing completed.\")"
      ]
    },
    {
      "cell_type": "code",
      "source": [
        "from sklearn.feature_extraction.text import CountVectorizer\n",
        "from sklearn.naive_bayes import MultinomialNB\n",
        "from sklearn.pipeline import Pipeline\n",
        "from sklearn.metrics import classification_report, confusion_matrix\n",
        "import pickle\n",
        "#from data_preprocessing import load_data, prepare_data\n",
        "\n",
        "def create_model():\n",
        "    # Create a pipeline with CountVectorizer and MultinomialNB\n",
        "    model = Pipeline([\n",
        "        ('vectorizer', CountVectorizer()),\n",
        "        ('classifier', MultinomialNB())\n",
        "    ])\n",
        "    return model\n",
        "\n",
        "def train_model(model, X_train, y_train):\n",
        "    # Train the model\n",
        "    model.fit(X_train, y_train)\n",
        "    return model\n",
        "\n",
        "def evaluate_model(model, X_test, y_test):\n",
        "    # Make predictions\n",
        "    y_pred = model.predict(X_test)\n",
        "\n",
        "    # Print classification report\n",
        "    print(classification_report(y_test, y_pred))\n",
        "\n",
        "    # Print confusion matrix\n",
        "    print(confusion_matrix(y_test, y_pred))\n",
        "\n",
        "def save_model(model, file_path):\n",
        "    # Save the model using pickle\n",
        "    with open(file_path, 'wb') as f:\n",
        "        pickle.dump(model, f)\n",
        "    print(f\"Model saved to {file_path}\")\n",
        "\n",
        "if __name__ == \"__main__\":\n",
        "    # Load and prepare data\n",
        "    df = load_data('email_data.csv')\n",
        "    X_train, X_test, y_train, y_test = prepare_data(df)\n",
        "\n",
        "    # Create and train model\n",
        "    model = create_model()\n",
        "    trained_model = train_model(model, X_train, y_train)\n",
        "\n",
        "    # Evaluate model\n",
        "    evaluate_model(trained_model, X_test, y_test)\n",
        "\n",
        "    # Save model\n",
        "    save_model(trained_model, 'spam_ham_model.pkl')"
      ],
      "metadata": {
        "colab": {
          "base_uri": "https://localhost:8080/"
        },
        "id": "rQseN0GFDKRA",
        "outputId": "58e81e37-1240-49da-9b74-2a8883bddae6"
      },
      "execution_count": 4,
      "outputs": [
        {
          "output_type": "stream",
          "name": "stdout",
          "text": [
            "              precision    recall  f1-score   support\n",
            "\n",
            "         ham       0.98      0.98      0.98       742\n",
            "        spam       0.95      0.95      0.95       293\n",
            "\n",
            "    accuracy                           0.97      1035\n",
            "   macro avg       0.97      0.97      0.97      1035\n",
            "weighted avg       0.97      0.97      0.97      1035\n",
            "\n",
            "[[728  14]\n",
            " [ 14 279]]\n",
            "Model saved to spam_ham_model.pkl\n"
          ]
        }
      ]
    },
    {
      "cell_type": "code",
      "source": [],
      "metadata": {
        "id": "tX3ZQgzwDfhy"
      },
      "execution_count": null,
      "outputs": []
    }
  ]
}